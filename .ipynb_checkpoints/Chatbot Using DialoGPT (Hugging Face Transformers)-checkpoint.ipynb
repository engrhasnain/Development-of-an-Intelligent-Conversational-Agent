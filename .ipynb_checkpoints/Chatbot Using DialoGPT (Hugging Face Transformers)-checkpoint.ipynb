{
 "cells": [
  {
   "cell_type": "markdown",
   "id": "7ae7e100-692f-4c16-a51b-abe529fc7ef7",
   "metadata": {},
   "source": [
    "# Import necessary libraries and frameworks"
   ]
  },
  {
   "cell_type": "code",
   "execution_count": 1,
   "id": "24ca8503-b323-4c29-b227-21bab03bd582",
   "metadata": {},
   "outputs": [],
   "source": [
    "import numpy as np\n",
    "import time\n",
    "import os\n",
    "from transformers import AutoModelForCausalLM, AutoTokenizer\n",
    "import torch"
   ]
  },
  {
   "cell_type": "markdown",
   "id": "224b5022-2794-4d9d-ba06-de0ea445f924",
   "metadata": {},
   "source": [
    "## Download Microsoft's DialoGPT model and tokenizer\n",
    "The Hugging Face checkpoint for the model and its tokenizer is \"microsoft/DialoGPT-medium\""
   ]
  },
  {
   "cell_type": "code",
   "execution_count": null,
   "id": "63667772-2ba2-4bb3-b3c6-98a36b6db523",
   "metadata": {},
   "outputs": [
    {
     "data": {
      "application/vnd.jupyter.widget-view+json": {
       "model_id": "dfc744fa7ac743b29e3766ab18423be0",
       "version_major": 2,
       "version_minor": 0
      },
      "text/plain": [
       "Downloading tokenizer_config.json:   0%|          | 0.00/614 [00:00<?, ?B/s]"
      ]
     },
     "metadata": {},
     "output_type": "display_data"
    },
    {
     "name": "stderr",
     "output_type": "stream",
     "text": [
      "C:\\Users\\PMLS\\anaconda3\\Lib\\site-packages\\huggingface_hub\\file_download.py:133: UserWarning: `huggingface_hub` cache-system uses symlinks by default to efficiently store duplicated files but your machine does not support them in C:\\Users\\PMLS\\.cache\\huggingface\\hub. Caching files will still work but in a degraded version that might require more space on your disk. This warning can be disabled by setting the `HF_HUB_DISABLE_SYMLINKS_WARNING` environment variable. For more details, see https://huggingface.co/docs/huggingface_hub/how-to-cache#limitations.\n",
      "To support symlinks on Windows, you either need to activate Developer Mode or to run Python as an administrator. In order to see activate developer mode, see this article: https://docs.microsoft.com/en-us/windows/apps/get-started/enable-your-device-for-development\n",
      "  warnings.warn(message)\n"
     ]
    },
    {
     "data": {
      "application/vnd.jupyter.widget-view+json": {
       "model_id": "e84e095d5f1f4e86b7b542889eecf7e4",
       "version_major": 2,
       "version_minor": 0
      },
      "text/plain": [
       "Downloading vocab.json:   0%|          | 0.00/1.04M [00:00<?, ?B/s]"
      ]
     },
     "metadata": {},
     "output_type": "display_data"
    },
    {
     "data": {
      "application/vnd.jupyter.widget-view+json": {
       "model_id": "ee65430ca965420ea0cb48a50aaf717f",
       "version_major": 2,
       "version_minor": 0
      },
      "text/plain": [
       "Downloading merges.txt:   0%|          | 0.00/456k [00:00<?, ?B/s]"
      ]
     },
     "metadata": {},
     "output_type": "display_data"
    }
   ],
   "source": [
    "# checkpoint \n",
    "checkpoint = \"microsoft/DialoGPT-medium\"\n",
    "# download and cache tokenizer\n",
    "tokenizer = AutoTokenizer.from_pretrained(checkpoint)\n",
    "# download and cache pre-trained model\n",
    "model = AutoModelForCausalLM.from_pretrained(checkpoint)"
   ]
  },
  {
   "cell_type": "code",
   "execution_count": 3,
   "id": "936d97b2-9e77-48ea-b35f-7ed5626a83f2",
   "metadata": {},
   "outputs": [],
   "source": [
    "# Build a ChatBot class with all necessary modules to make a complete conversation\n",
    "class ChatBot():\n",
    "    # initialize\n",
    "    def __init__(self):\n",
    "        # once chat starts, the history will be stored for chat continuity\n",
    "        self.chat_history_ids = None\n",
    "        # make input ids global to use them anywhere within the object\n",
    "        self.bot_input_ids = None\n",
    "        # a flag to check whether to end the conversation\n",
    "        self.end_chat = False\n",
    "        # greet while starting\n",
    "        self.welcome()\n",
    "        \n",
    "    def welcome(self):\n",
    "        print(\"Initializing BETA ...\")\n",
    "        # some time to get user ready\n",
    "        time.sleep(2)\n",
    "        print('Type \"bye\" or \"quit\" or \"exit\" to end chat \\n')\n",
    "        # give time to read what has been printed\n",
    "        time.sleep(3)\n",
    "        # Greet and introduce\n",
    "        greeting = np.random.choice([\n",
    "            \"Welcome, I am BETA, here for your kind service\",\n",
    "            \"Hey, Great day! I am your virtual assistant\",\n",
    "            \"Hello, it's my pleasure meeting you\",\n",
    "            \"Hi, I am a BETA. Let's chat!\"\n",
    "        ])\n",
    "        print(\"BETA >>  \" + greeting)\n",
    "        \n",
    "    def user_input(self):\n",
    "        # receive input from user\n",
    "        text = input(\"User    >> \")\n",
    "        # end conversation if user wishes so\n",
    "        if text.lower().strip() in ['bye', 'quit', 'exit']:\n",
    "            # turn flag on \n",
    "            self.end_chat=True\n",
    "            # a closing comment\n",
    "            print('BETA >>  See you soon! Bye!')\n",
    "            time.sleep(1)\n",
    "            print('\\nQuitting BETA ...')\n",
    "        else:\n",
    "            # continue chat, preprocess input text\n",
    "            # encode the new user input, add the eos_token and return a tensor in Pytorch\n",
    "            self.new_user_input_ids = tokenizer.encode(text + tokenizer.eos_token, \\\n",
    "                                                       return_tensors='pt')\n",
    "\n",
    "    def bot_response(self):\n",
    "        # append the new user input tokens to the chat history\n",
    "        # if chat has already begun\n",
    "        if self.chat_history_ids is not None:\n",
    "            self.bot_input_ids = torch.cat([self.chat_history_ids, self.new_user_input_ids], dim=-1) \n",
    "        else:\n",
    "            # if first entry, initialize bot_input_ids\n",
    "            self.bot_input_ids = self.new_user_input_ids\n",
    "        \n",
    "        # define the new chat_history_ids based on the preceding chats\n",
    "        # generated a response while limiting the total chat history to 1000 tokens, \n",
    "        self.chat_history_ids = model.generate(self.bot_input_ids, max_length=1000, \\\n",
    "                                               pad_token_id=tokenizer.eos_token_id)\n",
    "            \n",
    "        # last ouput tokens from bot\n",
    "        response = tokenizer.decode(self.chat_history_ids[:, self.bot_input_ids.shape[-1]:][0], \\\n",
    "                               skip_special_tokens=True)\n",
    "        # in case, bot fails to answer\n",
    "        if response == \"\":\n",
    "            response = self.random_response()\n",
    "        # print bot response\n",
    "        print('BETA >>  '+ response)\n",
    "        \n",
    "    # in case there is no response from model\n",
    "    def random_response(self):\n",
    "        i = -1\n",
    "        response = tokenizer.decode(self.chat_history_ids[:, self.bot_input_ids.shape[i]:][0], \\\n",
    "                               skip_special_tokens=True)\n",
    "        # iterate over history backwards to find the last token\n",
    "        while response == '':\n",
    "            i = i-1\n",
    "            response = tokenizer.decode(self.chat_history_ids[:, self.bot_input_ids.shape[i]:][0], \\\n",
    "                               skip_special_tokens=True)\n",
    "        # if it is a question, answer suitably\n",
    "        if response.strip() == '?':\n",
    "            reply = np.random.choice([\"I don't know\", \n",
    "                                     \"I am not sure\"])\n",
    "        # not a question? answer suitably\n",
    "        else:\n",
    "            reply = np.random.choice([\"Great\", \n",
    "                                      \"Fine. What's up?\", \n",
    "                                      \"Okay\"\n",
    "                                     ])\n",
    "        return reply"
   ]
  },
  {
   "cell_type": "code",
   "execution_count": null,
   "id": "99ad7933-1e10-4c41-9229-9ed8ddc29dcf",
   "metadata": {},
   "outputs": [
    {
     "name": "stdout",
     "output_type": "stream",
     "text": [
      "Initializing BETA ...\n",
      "Type \"bye\" or \"quit\" or \"exit\" to end chat \n",
      "\n",
      "BETA >>  Hi, I am a BETA. Let's chat!\n"
     ]
    },
    {
     "name": "stdin",
     "output_type": "stream",
     "text": [
      "User    >>  how anre you\n"
     ]
    },
    {
     "name": "stderr",
     "output_type": "stream",
     "text": [
      "The attention mask is not set and cannot be inferred from input because pad token is same as eos token.As a consequence, you may observe unexpected behavior. Please pass your input's `attention_mask` to obtain reliable results.\n"
     ]
    },
    {
     "name": "stdout",
     "output_type": "stream",
     "text": [
      "BETA >>  I'm good, how are you?\n"
     ]
    }
   ],
   "source": [
    "# build a ChatBot object\n",
    "bot = ChatBot()\n",
    "# start chatting\n",
    "while True:\n",
    "    # receive user input\n",
    "    bot.user_input()\n",
    "    # check whether to end chat\n",
    "    if bot.end_chat:\n",
    "        break\n",
    "    # output bot response\n",
    "    bot.bot_response()    "
   ]
  },
  {
   "cell_type": "code",
   "execution_count": null,
   "id": "85236fbe-360b-473a-8263-15549cffc02c",
   "metadata": {},
   "outputs": [],
   "source": []
  },
  {
   "cell_type": "code",
   "execution_count": null,
   "id": "26fe40f2-3053-4f61-820a-4e87d31128d9",
   "metadata": {},
   "outputs": [],
   "source": []
  },
  {
   "cell_type": "code",
   "execution_count": null,
   "id": "af838865-3774-4699-b86b-c94523b1ffba",
   "metadata": {},
   "outputs": [],
   "source": []
  }
 ],
 "metadata": {
  "kernelspec": {
   "display_name": "Python 3 (ipykernel)",
   "language": "python",
   "name": "python3"
  },
  "language_info": {
   "codemirror_mode": {
    "name": "ipython",
    "version": 3
   },
   "file_extension": ".py",
   "mimetype": "text/x-python",
   "name": "python",
   "nbconvert_exporter": "python",
   "pygments_lexer": "ipython3",
   "version": "3.11.5"
  }
 },
 "nbformat": 4,
 "nbformat_minor": 5
}
